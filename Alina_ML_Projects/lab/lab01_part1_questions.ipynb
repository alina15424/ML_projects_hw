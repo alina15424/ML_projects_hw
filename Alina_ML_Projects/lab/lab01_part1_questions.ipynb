{
 "cells": [
  {
   "cell_type": "markdown",
   "metadata": {},
   "source": [
    "*Credits: materials from this notebook belong to YSDA [Practical DL](https://github.com/yandexdataschool/Practical_DL) course. Special thanks for making them available online.*"
   ]
  },
  {
   "cell_type": "markdown",
   "metadata": {},
   "source": [
    "# Lab assignment №1, part 1\n",
    "\n\n",
    "This lab assignment consists of several parts. You are supposed to make some transformations, train some models, estimate the quality of the models and explain your results.\n",
    "\n",
    "Several comments:\n",
    "* Don't hesitate to ask questions, it's a good practice.\n",
    "* No private/public sharing, please. The copied assignments will be graded with 0 points.\n",
    "* Blocks of this lab will be graded separately."
   ]
  },
  {
   "cell_type": "markdown",
   "metadata": {},
   "source": [
    "## 1. Matrix differentiation"
   ]
  },
  {
   "cell_type": "markdown",
   "metadata": {},
   "source": [
    "Since it easy to google every task please please please try to undestand what's going on. The \"just answer\" thing will be not counted, make sure to present derivation of your solution. It is absolutely OK if you found an answer on web then just exercise in $\\LaTeX$ copying it into here."
   ]
  },
  {
   "cell_type": "markdown",
   "metadata": {},
   "source": [
    "Useful links: \n",
    "[1](http://www.machinelearning.ru/wiki/images/2/2a/Matrix-Gauss.pdf)\n",
    "[2](http://www.atmos.washington.edu/~dennis/MatrixCalculus.pdf)"
   ]
  },
  {
   "cell_type": "markdown",
   "metadata": {},
   "source": [
    "## ex. 1"
   ]
  },
  {
   "cell_type": "markdown",
   "metadata": {},
   "source": [
    "$$  \n",
    "y = x^Tx,  \\quad x \\in \\mathbb{R}^N \n",
    "$$"
   ]
  },
  {
   "cell_type": "markdown",
   "metadata": {},
   "source": [
    "$$\n",
    "\\frac{dy}{dx} = \n",
    "$$ "
   ]
  },
  {
   "cell_type": "markdown",
   "metadata": {},
   "source": [
    "Given:\n",
    "\n",
    "$$\n",
    "y = x^T x\n",
    "$$\n",
    "\n",
    "where \n",
    "\n",
    "$$\n",
    "x \\in \\mathbb{R}^N\n",
    "$$\n",
    "\n",
    "To find the derivative \n",
    "\n",
    "$$\n",
    "\\frac{dy}{dx}\n",
    "$$ \n",
    "\n",
    "we proceed as follows:\n",
    "\n",
    "1. **Rewrite the Expression**: Expand \\( y \\) in terms of matrix multiplication.\n",
    "\n",
    "   $$\n",
    "   y = x^T x = \\sum_{i=1}^N x_i^2\n",
    "   $$\n",
    "\n",
    "2. **Differentiate with Respect to \\( x \\)**: We need to compute \n",
    "\n",
    "   $$\n",
    "   \\frac{dy}{dx}\n",
    "   $$ \n",
    "\n",
    "   which is a vector of partial derivatives:\n",
    "\n",
    "   $$\n",
    "   \\frac{\\partial y}{\\partial x_i} = 2x_i\n",
    "   $$\n",
    "\n",
    "3. **Result in Vector Form**: Putting all partial derivatives together, we get:\n",
    "\n",
    "   $$\n",
    "   \\frac{dy}{dx} = 2x\n",
    "   $$\n",
    "\n",
    "Thus, the solution is:\n",
    "\n",
    "$$\n",
    "\\frac{dy}{dx} = 2x\n",
    "$$\n"
   ]
  },
  {
   "cell_type": "markdown",
   "metadata": {},
   "source": [
    "## ex. 2"
   ]
  },
  {
   "cell_type": "markdown",
   "metadata": {},
   "source": [
    "$$ y = tr(AB) \\quad A,B \\in \\mathbb{R}^{N \\times N} $$ "
   ]
  },
  {
   "cell_type": "markdown",
   "metadata": {},
   "source": [
    "$$\n",
    "\\frac{dy}{dA} =\n",
    "$$"
   ]
  },
  {
   "cell_type": "markdown",
   "metadata": {},
   "source": [
    "Given:\n",
    "\n",
    "$$\n",
    "y = \\operatorname{tr}(AB)\n",
    "$$\n",
    "\n",
    "where \n",
    "\n",
    "$$\n",
    "A, B \\in \\mathbb{R}^{N \\times N}\n",
    "$$\n",
    "\n",
    "We want to find the derivative \n",
    "\n",
    "$$\n",
    "\\frac{dy}{dA}\n",
    "$$\n",
    "\n",
    "Solution:\n",
    "\n",
    "1. **Recall the Trace Derivative Rule**: The derivative of $$ \\operatorname{tr}(AX) $$ with respect to $$ A $$ is $$ X^T $$. Here, we can directly apply this rule to $$ \\operatorname{tr}(AB) $$.\n",
    "\n",
    "2. **Apply the Rule**: Since $$ \\operatorname{tr}(AB) $$ is a scalar and we are differentiating with respect to $$ A $$, we get:\n",
    "\n",
    "   $$\n",
    "   \\frac{dy}{dA} = B^T\n",
    "   $$\n",
    "\n",
    "Thus, the solution is:\n",
    "\n",
    "$$\n",
    "\\frac{dy}{dA} = B^T\n",
    "$$\n"
   ]
  },
  {
   "cell_type": "markdown",
   "metadata": {},
   "source": [
    "## ex. 3"
   ]
  },
  {
   "cell_type": "markdown",
   "metadata": {},
   "source": [
    "$$  \n",
    "y = x^TAc , \\quad A\\in \\mathbb{R}^{N \\times N}, x\\in \\mathbb{R}^{N}, c\\in \\mathbb{R}^{N} \n",
    "$$"
   ]
  },
  {
   "cell_type": "markdown",
   "metadata": {},
   "source": [
    "$$\n",
    "\\frac{dy}{dx} =\n",
    "$$"
   ]
  },
  {
   "cell_type": "markdown",
   "metadata": {},
   "source": [
    "$$\n",
    "\\frac{dy}{dA} =\n",
    "$$ "
   ]
  },
  {
   "cell_type": "markdown",
   "metadata": {},
   "source": [
    "Hint for the latter (one of the ways): use *ex. 2* result and the fact \n",
    "$$\n",
    "tr(ABC) = tr (CAB)\n",
    "$$"
   ]
  },
  {
   "cell_type": "markdown",
   "metadata": {},
   "source": [
    "Given:\n",
    "\n",
    "$$\n",
    "y = x^T A c\n",
    "$$\n",
    "\n",
    "where \n",
    "\n",
    "$$\n",
    "A \\in \\mathbb{R}^{N \\times N}, \\quad x \\in \\mathbb{R}^N, \\quad c \\in \\mathbb{R}^N\n",
    "$$\n",
    "\n",
    "We want to find \n",
    "\n",
    "$$\n",
    "\\frac{dy}{dx}\n",
    "$$ \n",
    "\n",
    "and \n",
    "\n",
    "$$\n",
    "\\frac{dy}{dA}\n",
    "$$.\n",
    "\n",
    "### Solution\n",
    "\n",
    "1. **Differentiate with respect to \\( x \\)**\n",
    "\n",
    "   Rewrite \\( y \\) to highlight its dependence on \\( x \\):\n",
    "\n",
    "   $$\n",
    "   y = x^T (A c)\n",
    "   $$\n",
    "\n",
    "   where $$ A c $$ is simply a vector in $$ \\mathbb{R}^N $$.\n",
    "\n",
    "   Since $$ y $$ is a linear function of $$ x $$, we can take the derivative with respect to $$ x $$:\n",
    "\n",
    "   $$\n",
    "   \\frac{dy}{dx} = A c\n",
    "   $$\n",
    "\n",
    "2. **Differentiate with respect to \\( A \\)**\n",
    "\n",
    "   Rewrite $$ y $$ using the trace notation to make the dependence on $$ A $$ more apparent:\n",
    "\n",
    "   $$\n",
    "   y = \\operatorname{tr}(x^T A c) = \\operatorname{tr}(A c x^T)\n",
    "   $$\n",
    "\n",
    "   where we used the cyclic property of the trace, $$ \\operatorname{tr}(ABC) = \\operatorname{tr}(CAB) $$.\n",
    "\n",
    "   Using the trace derivative rule from **Exercise 2**, the derivative of $$ \\operatorname{tr}(A X) $$ with respect to $$ A $$ is $$ X^T $$. Here, $$ X = c x^T $$, so:\n",
    "\n",
    "   $$\n",
    "   \\frac{dy}{dA} = (c x^T)^T = x c^T\n",
    "   $$\n",
    "\n",
    "### Final Answer\n",
    "\n",
    "Thus, the solutions are:\n",
    "\n",
    "$$\n",
    "\\frac{dy}{dx} = A c\n",
    "$$\n",
    "\n",
    "and\n",
    "\n",
    "$$\n",
    "\\frac{dy}{dA} = x c^T\n",
    "$$\n"
   ]
  },
  {
   "cell_type": "markdown",
   "metadata": {},
   "source": [
    "## ex. 4"
   ]
  },
  {
   "cell_type": "markdown",
   "metadata": {},
   "source": [
    "Classic matrix factorization example. Given matrix $X$ you need to find $A$, $S$ to approximate $X$. This can be done by simple gradient descent iteratively alternating $A$ and $S$ updates.\n",
    "$$\n",
    "J = || X - AS ||_F^2  , \\quad A\\in \\mathbb{R}^{N \\times R} , \\quad S\\in \\mathbb{R}^{R \\times M}\n",
    "$$\n",
    "$$\n",
    "\\frac{dJ}{dS} = ? \n",
    "$$\n",
    "\n",
    "You may use one of the following approaches:"
   ]
  },
  {
   "cell_type": "markdown",
   "metadata": {},
   "source": [
    "#### First approach\n",
    "Using ex.2 and the fact:\n",
    "$$\n",
    "|| X ||_F^2 = tr(XX^T) \n",
    "$$ \n",
    "it is easy to derive gradients (you can find it in one of the refs). "
   ]
  },
  {
   "cell_type": "markdown",
   "metadata": {},
   "source": [
    "#### Second approach\n",
    "You can use *slightly different techniques* if they suits you. Take a look at this derivation:\n",
    "<img src=\"grad.png\">\n",
    "(excerpt from [Handbook of blind source separation, Jutten, page 517](https://books.google.ru/books?id=PTbj03bYH6kC&printsec=frontcover&dq=Handbook+of+Blind+Source+Separation&hl=en&sa=X&ved=0ahUKEwi-q_apiJDLAhULvXIKHVXJDWcQ6AEIHDAA#v=onepage&q=Handbook%20of%20Blind%20Source%20Separation&f=false), open for better picture)."
   ]
  },
  {
   "cell_type": "markdown",
   "metadata": {},
   "source": [
    "#### Third approach\n",
    "And finally we can use chain rule! \n",
    "let $ F = AS $ \n",
    "\n",
    "**Find**\n",
    "$$\n",
    "\\frac{dJ}{dF} =  \n",
    "$$ \n",
    "and \n",
    "$$\n",
    "\\frac{dF}{dS} =  \n",
    "$$ \n",
    "(the shape should be $ NM \\times RM )$.\n",
    "\n",
    "Now it is easy do get desired gradients:\n",
    "$$\n",
    "\\frac{dJ}{dS} =  \n",
    "$$ "
   ]
  },
  {
   "cell_type": "markdown",
   "metadata": {},
   "source": [
    "Classic matrix factorization example. Given matrix $$ X $$, you need to find $$ A $$ and $$ S $$ to approximate $$ X $$. This can be done by simple gradient descent, iteratively alternating $$ A $$ and $$ S $$ updates.\n",
    "\n",
    "$$\n",
    "J = \\|X - AS\\|^2_F\n",
    "$$\n",
    "\n",
    "where \n",
    "\n",
    "$$\n",
    "A \\in \\mathbb{R}^{N \\times R}, \\quad S \\in \\mathbb{R}^{R \\times M}\n",
    "$$\n",
    "\n",
    "We want to find \n",
    "\n",
    "$$\n",
    "\\frac{dJ}{dS}\n",
    "$$.\n",
    "\n",
    "You may use one of the following approaches:\n",
    "\n",
    "---\n",
    "\n",
    "### First Approach\n",
    "\n",
    "Using **Exercise 2** and the fact:\n",
    "\n",
    "$$\n",
    "\\|X\\|^2_F = \\operatorname{tr}(X X^T)\n",
    "$$\n",
    "\n",
    "it is easy to derive gradients (you can find it in one of the references).\n",
    "\n",
    "---\n",
    "\n",
    "### Second Approach\n",
    "\n",
    "You can use slightly different techniques if they suit you. Take a look at this derivation (excerpt from *Handbook of Blind Source Separation*, Jutten, page 517, open for a better picture).\n",
    "\n",
    "---\n",
    "\n",
    "### Third Approach\n",
    "\n",
    "Finally, we can use the chain rule! Let \n",
    "\n",
    "$$\n",
    "F = AS\n",
    "$$\n",
    "\n",
    "#### Find \n",
    "\n",
    "$$\n",
    "\\frac{dJ}{dF}\n",
    "$$\n",
    "\n",
    "and \n",
    "\n",
    "$$\n",
    "\\frac{dF}{dS}\n",
    "$$\n",
    "\n",
    "(the shape should be $$ N M \\times R M $$).\n",
    "\n",
    "Now it is easy to get the desired gradients:\n",
    "\n",
    "$$\n",
    "\\frac{dJ}{dS} = ?\n",
    "$$\n"
   ]
  },
  {
   "cell_type": "markdown",
   "metadata": {
    "collapsed": true,
    "jupyter": {
     "outputs_hidden": true
    }
   },
   "source": [
    "## 2. kNN questions\n",
    "Here come the questions from the assignment0_01. Please, refer to the assignment0_01 to get the context of the questions."
   ]
  },
  {
   "cell_type": "markdown",
   "metadata": {},
   "source": [
    "### Question 1\n",
    "\n",
    "Notice the structured patterns in the distance matrix, where some rows or columns are visible brighter. (Note that with the default color scheme black indicates low distances while white indicates high distances.)\n",
    "\n",
    "- What in the data is the cause behind the distinctly bright rows?\n",
    "- What causes the columns?\n",
    "\n",
    "*Your Answer:*\n",
    "\n",
    "\n",
    "Notice the structured patterns in the distance matrix, where some rows or columns are visible brighter. What in the data is the cause behind the distinctly bright rows?\n",
    "\n",
    "Answer: In a distance matrix for k-Nearest Neighbors (kNN), each cell represents the distance between two points in the dataset. Distinctly bright rows typically indicate data points that are far from others across the dataset. These rows suggest that certain points are more isolated or less similar to the majority of the data, leading to consistently higher distances in comparisons.\n",
    "What causes the columns?\n",
    "\n",
    "Answer: Bright columns in a distance matrix might represent attributes or clusters within the data that have a unique distance distribution compared to others. This could indicate a feature or group of features that make specific data points (or groups of points) consistently different from others. High distances in columns can also be caused by outlier points that vary significantly from a particular subset of data, creating a pattern in the distance matrix.\n",
    "\n",
    "\n"
   ]
  },
  {
   "cell_type": "markdown",
   "metadata": {},
   "source": [
    "### Question 2\n",
    "\n",
    "We can also use other distance metrics such as L1 distance.\n",
    "For pixel values $p_{ij}^{(k)}$ at location $(i,j)$ of some image $I_k$, \n",
    "\n",
    "the mean $\\mu$ across all pixels over all images is $$\\mu=\\frac{1}{nhw}\\sum_{k=1}^n\\sum_{i=1}^{h}\\sum_{j=1}^{w}p_{ij}^{(k)}$$\n",
    "And the pixel-wise mean $\\mu_{ij}$ across all images is \n",
    "$$\\mu_{ij}=\\frac{1}{n}\\sum_{k=1}^np_{ij}^{(k)}.$$\n",
    "The general standard deviation $\\sigma$ and pixel-wise standard deviation $\\sigma_{ij}$ is defined similarly.\n",
    "\n",
    "Which of the following preprocessing steps will not change the performance of a Nearest Neighbor classifier that uses L1 distance? Select all that apply.\n",
    "1. Subtracting the mean $\\mu$ ($\\tilde{p}_{ij}^{(k)}=p_{ij}^{(k)}-\\mu$.)\n",
    "2. Subtracting the per pixel mean $\\mu_{ij}$  ($\\tilde{p}_{ij}^{(k)}=p_{ij}^{(k)}-\\mu_{ij}$.)\n",
    "3. Subtracting the mean $\\mu$ and dividing by the standard deviation $\\sigma$.\n",
    "4. Subtracting the pixel-wise mean $\\mu_{ij}$ and dividing by the pixel-wise standard deviation $\\sigma_{ij}$.\n",
    "5. Rotating the coordinate axes of the data.\n",
    "\n",
    "*Your Answer:*\n",
    "\n",
    "\n",
    "*Your Explanation:*\n",
    "\n",
    "Subtracting the mean \n",
    "μ:\n",
    "\n",
    "Subtracting a constant mean from all pixel values translates all data points by the same amount. Since L1 distance measures the absolute difference between corresponding points, subtracting a global mean does not affect the relative distances.\n",
    "Answer: Will not change performance.\n",
    "Subtracting the per-pixel mean \n",
    "𝜇𝑖𝑗:\n",
    "\n",
    "Subtracting the pixel-wise mean μij standardizes each pixel location across images. Since it does not affect relative distances between images, this step will not impact the classifier.\n",
    "Answer: Will not change performance.\n",
    "Subtracting the mean \n",
    "μ and dividing by the standard deviation \n",
    "\n",
    "σ:\n",
    "\n",
    "Dividing by the standard deviation after mean subtraction normalizes the data. While this affects the scale of distances, it may change the relative distances between points, potentially affecting the classifier's performance.\n",
    "Answer: May change performance.\n",
    "Subtracting the pixel-wise mean \n",
    "μij\n",
    "and dividing by the pixel-wise standard deviation σij:\n",
    "\n",
    "Similar to the previous option, pixel-wise normalization changes the scale of the data on a per-pixel basis, which could impact the relative distances.\n",
    "Answer: May change performance.\n",
    "Rotating the coordinate axes of the data:\n",
    "\n",
    "Rotation can alter distances in L2 metrics but does not change L1 distances, as the L1 metric is not sensitive to the coordinate orientation.\n",
    "Answer: Will not change performance.\n",
    "\n",
    "Final Answer:\n",
    "\n",
    "L1 distance are:\n",
    "\n",
    "1. Subtracting the mean μ\n",
    "2. Subtracting the per-pixel mean μij\n",
    "5. Rotating the coordinate axes of the data\n",
    "\n"
   ]
  },
  {
   "cell_type": "markdown",
   "metadata": {},
   "source": [
    "## Question 3\n",
    "\n",
    "Which of the following statements about $k$-Nearest Neighbor ($k$-NN) are true in a classification setting, and for all $k$? Select all that apply.\n",
    "1. The decision boundary (hyperplane between classes in feature space) of the k-NN classifier is linear.\n",
    "2. The training error of a 1-NN will always be lower than that of 5-NN.\n",
    "3. The test error of a 1-NN will always be lower than that of a 5-NN.\n",
    "4. The time needed to classify a test example with the k-NN classifier grows with the size of the training set.\n",
    "5. None of the above.\n",
    "\n",
    "*Your Answer:\n",
    "The statements that are true are:\n",
    "\n",
    "2. The training error of a 1-NN will always be lower than that of 5-NN.\n",
    "4. The time needed to classify a test example with the k-NN classifier grows with the size of the training set.\n",
    "\n",
    "\n"
   ]
  }
 ],
 "metadata": {
  "kernelspec": {
   "display_name": "Python 3",
   "language": "python",
   "name": "python3"
  },
  "language_info": {
   "codemirror_mode": {
    "name": "ipython",
    "version": 3
   },
   "file_extension": ".py",
   "mimetype": "text/x-python",
   "name": "python",
   "nbconvert_exporter": "python",
   "pygments_lexer": "ipython3",
   "version": "3.11.5"
  }
 },
 "nbformat": 4,
 "nbformat_minor": 4
}
